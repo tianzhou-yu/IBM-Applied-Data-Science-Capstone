{
    "cells": [
        {
            "cell_type": "markdown",
            "metadata": {
                "collapsed": true
            },
            "source": "# The Battle of Neighborhoods"
        },
        {
            "cell_type": "markdown",
            "metadata": {},
            "source": "## Introduction/Business Problem"
        },
        {
            "cell_type": "markdown",
            "metadata": {},
            "source": "Though the political center of the United State, Washington, DC does not offer as many entertainment choices as the New York City. Noticing that, Fiona is exploring the potential opportunities to open a restaurant that targets government officials. While the White House has the Old Ebbitt Grill as the go-to place, the Congress doesn't have such a restaurant nearby. Therefore, Fiona is hoping to open a classic restaurant close to Congress and become the go-to place for congressmen and congresswomen. However, before the investment, she decides to do a little research on the potential locations of her restaurant."
        },
        {
            "cell_type": "markdown",
            "metadata": {},
            "source": "## Data"
        },
        {
            "cell_type": "markdown",
            "metadata": {},
            "source": "The Foursquare location data will be used to help Fiona with her research. The Foursquare location data will provide venue information within a defined radius from Congress. The data will also be used to assess neighborhood characteristics to help Fiona decide which neighborhood should be the home of her restaurant."
        },
        {
            "cell_type": "code",
            "execution_count": null,
            "metadata": {},
            "outputs": [],
            "source": ""
        }
    ],
    "metadata": {
        "kernelspec": {
            "display_name": "Python 3.6",
            "language": "python",
            "name": "python3"
        },
        "language_info": {
            "codemirror_mode": {
                "name": "ipython",
                "version": 3
            },
            "file_extension": ".py",
            "mimetype": "text/x-python",
            "name": "python",
            "nbconvert_exporter": "python",
            "pygments_lexer": "ipython3",
            "version": "3.6.8"
        }
    },
    "nbformat": 4,
    "nbformat_minor": 1
}